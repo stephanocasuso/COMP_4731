{
  "cells": [
    {
      "cell_type": "markdown",
      "source": [
        "# College Data\n",
        "#### Stephano Casuso\n",
        "---"
      ],
      "metadata": {},
      "id": "c4750900"
    },
    {
      "cell_type": "code",
      "source": [
        "import pandas, seaborn\n",
        "from matplotlib import pyplot as plt\n",
        "import plotly.express as px\n",
        "from plotly.subplots import make_subplots\n",
        "import plotly.graph_objects as go"
      ],
      "outputs": [
        {
          "output_type": "error",
          "ename": "ModuleNotFoundError",
          "evalue": "No module named 'pandas'",
          "traceback": [
            "\u001b[1;31m---------------------------------------------------------------------------\u001b[0m",
            "\u001b[1;31mModuleNotFoundError\u001b[0m                       Traceback (most recent call last)",
            "Input \u001b[1;32mIn [19]\u001b[0m, in \u001b[0;36m<cell line: 1>\u001b[1;34m()\u001b[0m\n\u001b[1;32m----> 1\u001b[0m \u001b[38;5;28;01mimport\u001b[39;00m \u001b[38;5;21;01mpandas\u001b[39;00m\u001b[38;5;241m,\u001b[39m \u001b[38;5;21;01mseaborn\u001b[39;00m\n\u001b[0;32m      2\u001b[0m \u001b[38;5;28;01mfrom\u001b[39;00m \u001b[38;5;21;01mmatplotlib\u001b[39;00m \u001b[38;5;28;01mimport\u001b[39;00m pyplot \u001b[38;5;28;01mas\u001b[39;00m plt\n\u001b[0;32m      3\u001b[0m \u001b[38;5;28;01mimport\u001b[39;00m \u001b[38;5;21;01mplotly\u001b[39;00m\u001b[38;5;21;01m.\u001b[39;00m\u001b[38;5;21;01mexpress\u001b[39;00m \u001b[38;5;28;01mas\u001b[39;00m \u001b[38;5;21;01mpx\u001b[39;00m\n",
            "\u001b[1;31mModuleNotFoundError\u001b[0m: No module named 'pandas'"
          ]
        }
      ],
      "execution_count": 19,
      "metadata": {
        "execution": {
          "iopub.status.busy": "2022-07-30T01:14:00.258Z",
          "iopub.execute_input": "2022-07-30T01:14:00.271Z"
        }
      },
      "id": "134b4722"
    },
    {
      "cell_type": "code",
      "source": [
        "df = pandas.read_csv(\"Project Proposal/college_data.csv\")\n",
        "pandas.set_option('max_columns', None)"
      ],
      "outputs": [],
      "execution_count": null,
      "metadata": {},
      "id": "9193ba28"
    },
    {
      "cell_type": "markdown",
      "source": [
        "## Exploring the Data"
      ],
      "metadata": {},
      "id": "0446cffb"
    },
    {
      "cell_type": "markdown",
      "source": [
        "**This dataset contains 145 features of over 1500 colleges across the US.**\n",
        "\n",
        "**There is some specific data:**\n",
        "![image.png](attachment:image.png)"
      ],
      "metadata": {},
      "id": "f410560f"
    },
    {
      "cell_type": "markdown",
      "source": [
        "---\n",
        "## Map of Colleges"
      ],
      "metadata": {},
      "id": "0702ab4c"
    },
    {
      "cell_type": "code",
      "source": [
        "df.plot.scatter(x='Longitude location of institution', \n",
        "                y='Latitude location of institution',\n",
        "                c='Purple',\n",
        "                alpha=0.3,\n",
        "                figsize=(17,12),\n",
        "                cmap=plt.get_cmap('jet'))"
      ],
      "outputs": [],
      "execution_count": null,
      "metadata": {
        "scrolled": false,
        "collapsed": false
      },
      "id": "63fb8538"
    },
    {
      "cell_type": "markdown",
      "source": [
        "---\n",
        "## Distribution of University Costs"
      ],
      "metadata": {},
      "id": "37c77b0a"
    },
    {
      "cell_type": "code",
      "source": [
        "expense = (df['Tuition and fees, 2010-11']\n",
        "           +df['Tuition and fees, 2011-12']\n",
        "           +df['Tuition and fees, 2012-13']\n",
        "           +df['Tuition and fees, 2013-14'])\n",
        "df['expense'] = expense/4"
      ],
      "outputs": [],
      "execution_count": null,
      "metadata": {},
      "id": "5b684780"
    },
    {
      "cell_type": "markdown",
      "source": [
        "**University expense was derived from the average of yearly tuition between 2010-2014 for in-state students.**"
      ],
      "metadata": {},
      "id": "879c9050"
    },
    {
      "cell_type": "code",
      "source": [
        "seaborn.displot(data=df, x='expense', aspect=2, kde=True)"
      ],
      "outputs": [],
      "execution_count": null,
      "metadata": {},
      "id": "38acb1c4"
    },
    {
      "cell_type": "markdown",
      "source": [
        "**Notice the two humps of expense in the plot. The first one is the concentration of public college tuition while the second one belongs to the private college tuition.**"
      ],
      "metadata": {},
      "id": "ec5b3bf6"
    },
    {
      "cell_type": "markdown",
      "source": [
        "---\n",
        "## Composition of Private Schools vs Public Schools"
      ],
      "metadata": {},
      "id": "af3e030b"
    },
    {
      "cell_type": "code",
      "source": [
        "df2 = df[['Sector of institution']].value_counts()\n",
        "df2.plot.pie(y='Sector of institution', autopct='%1.1f%%', labels=['Private', 'Public'], startangle=90)"
      ],
      "outputs": [],
      "execution_count": null,
      "metadata": {},
      "id": "29f2d9b4"
    },
    {
      "cell_type": "markdown",
      "source": [
        "**Type of Colleges in Data:**\n",
        "+ Private: $\\;\\;\\;$ 971\n",
        "+ Public: $\\;\\;\\;\\;$ 563"
      ],
      "metadata": {},
      "id": "85f97648"
    },
    {
      "cell_type": "markdown",
      "source": [
        "---\n",
        "## Are Private Colleges More Expensive Than Public Ones?"
      ],
      "metadata": {},
      "id": "9a2c92f1"
    },
    {
      "cell_type": "code",
      "source": [
        "plt.figure(figsize=(10,5))\n",
        "pvp = df[['expense', 'Sector of institution']].groupby(by='Sector of institution').mean()\n",
        "seaborn.barplot(data=pvp, x=pvp.index, y='expense')"
      ],
      "outputs": [],
      "execution_count": null,
      "metadata": {
        "scrolled": true
      },
      "id": "9653ac37"
    },
    {
      "cell_type": "markdown",
      "source": [
        "**Private colleges average a yearly tuition of ﹩26,580, which is close to 3$1\\over2$ times the price of public colleges at ﹩7,780.**"
      ],
      "metadata": {},
      "id": "bdcacb81"
    },
    {
      "cell_type": "markdown",
      "source": [
        "---\n",
        "## What States Have the Highest Average University Tuition?"
      ],
      "metadata": {},
      "id": "c0c41dae"
    },
    {
      "cell_type": "code",
      "source": [
        "states = df[['expense', 'FIPS state code']].groupby(by='FIPS state code').mean()\n",
        "plt.figure(figsize=(10,10))\n",
        "seaborn.barplot(data=states, \n",
        "                y=states.index, \n",
        "                x='expense', \n",
        "                order=states.sort_values('expense', ascending = False).index\n",
        "               )"
      ],
      "outputs": [],
      "execution_count": null,
      "metadata": {
        "scrolled": false
      },
      "id": "830f5787"
    },
    {
      "cell_type": "markdown",
      "source": [
        "**Top 5 States with Most Expensive Tution:**\n",
        "1. Massachusetts\n",
        "2. Connecticut\n",
        "3. District of Columbia\n",
        "4. Rhode Island\n",
        "5. Iowa"
      ],
      "metadata": {},
      "id": "5fb26cb6"
    },
    {
      "cell_type": "markdown",
      "source": [
        "---\n",
        "## Can a College's Academic Performance Be Predicted Through its Tuition?"
      ],
      "metadata": {},
      "id": "7474d492"
    },
    {
      "cell_type": "markdown",
      "source": [
        "#### Which features can be used to define academic performance?\n",
        "\n",
        "Instinctively, I chose the colleges' graduation rate to determine the academic performance. If the graduation rate is high, then the students are doing well. If it's low, then the students are having a harder time passing their classes.\n",
        "\n",
        "After looking at the graph comparing the expense to the graduation rate, I thought it'd be best to add more features to define academic performance. The data contains some of the student's SAT and ACT scores which they've submitted as part of their application to the colleges, so I'll add those as well.\n",
        "\n",
        "Relevant features:\n",
        "+ Graduation rate - Bachelor degree within 4 years, total\n",
        "+ Graduation rate - Bachelor degree within 5 years, total\n",
        "+ Graduation rate - Bachelor degree within 6 years, total\n",
        "+ SAT Critical Reading 75th percentile score\n",
        "+ SAT Math 75th percentile score\n",
        "+ SAT Writing 75th percentile score\n",
        "+ ACT Composite 75th percentile score"
      ],
      "metadata": {},
      "id": "0b20935d"
    },
    {
      "cell_type": "code",
      "source": [
        "print(df['SAT Math 75th percentile score'].isna().value_counts(),\n",
        "'\\n',df['SAT Writing 75th percentile score'].isna().value_counts(),\n",
        "'\\n',df['ACT Composite 75th percentile score'].isna().value_counts(),\n",
        "'\\n',df['SAT Critical Reading 75th percentile score'].isna().value_counts()\n",
        "     )"
      ],
      "outputs": [],
      "execution_count": null,
      "metadata": {},
      "id": "8796ff6c"
    },
    {
      "cell_type": "markdown",
      "source": [
        "One problem, a large amount of SAT and ACT scores seem to be missing from the data because not all students were required to submit their scores."
      ],
      "metadata": {},
      "id": "bdfaae72"
    },
    {
      "cell_type": "code",
      "source": [
        "# in case of error, run cell below first\n",
        "df['totalGradRate'].isna().value_counts()"
      ],
      "outputs": [],
      "execution_count": null,
      "metadata": {},
      "id": "87df9943"
    },
    {
      "cell_type": "code",
      "source": [
        "totalGradRate = (df['Graduation rate - Bachelor degree within 4 years, total']\n",
        "                 +df['Graduation rate - Bachelor degree within 5 years, total']\n",
        "                 +df['Graduation rate - Bachelor degree within 6 years, total']\n",
        "                )/3\n",
        "#'''\n",
        "testingPerformance = (df['SAT Critical Reading 75th percentile score']\n",
        "                      +df['SAT Math 75th percentile score']\n",
        "                      +df['SAT Writing 75th percentile score']\n",
        "                      +df['ACT Composite 75th percentile score']\n",
        "                      )/4\n",
        "#'''\n",
        "df['totalGradRate'] = totalGradRate\n",
        "df['testingPerformance'] = testingPerformance\n",
        "\n",
        "#df['academicPerformance'] = totalGradRate\n",
        "df['academicPerformance'] = (totalGradRate+testingPerformance)/2"
      ],
      "outputs": [],
      "execution_count": null,
      "metadata": {},
      "id": "a21b9a4c"
    },
    {
      "cell_type": "code",
      "source": [
        "plt.rcParams[\"figure.figsize\"] = [15, 5]\n",
        "f, axes = plt.subplots(1, 2)\n",
        "seaborn.regplot(data=df, x='expense', y='academicPerformance', ax=axes[0])\n",
        "seaborn.kdeplot(data=df, x='expense', y='academicPerformance', ax=axes[1])\n",
        "plt.show()"
      ],
      "outputs": [],
      "execution_count": null,
      "metadata": {},
      "id": "853b2659"
    },
    {
      "cell_type": "markdown",
      "source": [
        "**We can see two distinct clusters of data in the plot. What could they be?**"
      ],
      "metadata": {},
      "id": "a632101b"
    },
    {
      "cell_type": "code",
      "source": [
        "seaborn.relplot(data=df, \n",
        "                x='expense', \n",
        "                y='academicPerformance', \n",
        "                hue='Sector of institution',\n",
        "                col='Sector of institution',\n",
        ")"
      ],
      "outputs": [],
      "execution_count": null,
      "metadata": {},
      "id": "bfae97a6"
    },
    {
      "cell_type": "markdown",
      "source": [
        "When the data is graphed through what type of institution it is, the two clusters are separated, and the difference between public and private colleges becomes clear.\n",
        "\n",
        "It seems that most private colleges tend to increase in academic performance as their price goes up, but public colleges' academic performance vary within the small range of tuition cost."
      ],
      "metadata": {},
      "id": "e22fb1ee"
    },
    {
      "cell_type": "markdown",
      "source": [
        "## Colleges that Deserve Special Recognition"
      ],
      "metadata": {},
      "id": "2ca324cc"
    },
    {
      "cell_type": "markdown",
      "source": [
        "**First, let's look at the best public colleges money can buy.**"
      ],
      "metadata": {},
      "id": "e2ab3297"
    },
    {
      "cell_type": "code",
      "source": [
        "import plotly.express as px"
      ],
      "outputs": [],
      "execution_count": null,
      "metadata": {},
      "id": "0efd5f35"
    },
    {
      "cell_type": "code",
      "source": [
        "pu = df[ df['Sector of institution'] == 'Public, 4-year or above' ]\n",
        "pu = pu[['Name', 'FIPS state code', 'expense', 'academicPerformance']]\n",
        "pu = pu.dropna()"
      ],
      "outputs": [],
      "execution_count": null,
      "metadata": {},
      "id": "c7278bc2"
    },
    {
      "cell_type": "code",
      "source": [
        "px.scatter(pu, x='expense', y='academicPerformance', hover_data=['Name', 'FIPS state code'], color='expense')"
      ],
      "outputs": [],
      "execution_count": null,
      "metadata": {
        "scrolled": false
      },
      "id": "f3352cf6"
    },
    {
      "cell_type": "markdown",
      "source": [
        "**Now let's look at the best private colleges for your money.**"
      ],
      "metadata": {},
      "id": "650149ba"
    },
    {
      "cell_type": "code",
      "source": [
        "pr = df[ df['Sector of institution'] == 'Private not-for-profit, 4-year or above' ]\n",
        "pr = pr[['Name', 'FIPS state code', 'expense', 'academicPerformance']]\n",
        "pr = pr.dropna()"
      ],
      "outputs": [],
      "execution_count": null,
      "metadata": {},
      "id": "1126fedc"
    },
    {
      "cell_type": "code",
      "source": [
        "px.scatter(pr, x='expense', y='academicPerformance', hover_data=['Name', 'FIPS state code'], color='expense')"
      ],
      "outputs": [],
      "execution_count": null,
      "metadata": {},
      "id": "957fa954"
    },
    {
      "cell_type": "markdown",
      "source": [
        "These two interactive graphs could be a great resource for high school seniors looking for colleges/universities, or even current college undergraduates looking for better options than the current college they're attending."
      ],
      "metadata": {},
      "id": "2cd25269"
    }
  ],
  "metadata": {
    "kernelspec": {
      "display_name": "Python 3 (ipykernel)",
      "language": "python",
      "name": "python3"
    },
    "language_info": {
      "name": "python",
      "version": "3.10.4",
      "mimetype": "text/x-python",
      "codemirror_mode": {
        "name": "ipython",
        "version": 3
      },
      "pygments_lexer": "ipython3",
      "nbconvert_exporter": "python",
      "file_extension": ".py"
    },
    "nteract": {
      "version": "0.28.0"
    }
  },
  "nbformat": 4,
  "nbformat_minor": 5
}